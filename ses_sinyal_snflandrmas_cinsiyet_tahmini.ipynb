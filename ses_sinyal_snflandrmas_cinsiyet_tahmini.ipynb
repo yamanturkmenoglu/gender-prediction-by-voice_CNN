{
 "cells": [
  {
   "cell_type": "code",
   "execution_count": null,
   "id": "ef465ccf",
   "metadata": {},
   "outputs": [],
   "source": [
    "import tensorflow as tf\n",
    "import matplotlib.pyplot as plt\n",
    "import pandas as pd\n",
    "import os\n",
    "import librosa\n",
    "import numpy as np\n",
    "from tqdm import tqdm\n",
    "from sklearn.model_selection import train_test_split\n",
    "from tensorflow.keras.utils import to_categorical\n",
    "from sklearn.preprocessing import LabelEncoder\n",
    "from tensorflow.keras.models import Sequential\n",
    "from tensorflow.keras.layers import Dense,Dropout,Activation,Flatten\n",
    "from tensorflow.keras.optimizers import Adam\n",
    "from sklearn import metrics\n",
    "from tensorflow.keras.callbacks import ModelCheckpoint\n",
    "from datetime import datetime \n",
    "from pathlib import Path\n",
    "import IPython.display as ipd#ses dosyasını oynatmak için\n",
    "from sklearn.metrics import accuracy_score\n"
   ]
  },
  {
   "cell_type": "code",
   "execution_count": null,
   "id": "ebd6e235",
   "metadata": {},
   "outputs": [],
   "source": [
    "audio_file_path='deneme.wav';"
   ]
  },
  {
   "cell_type": "code",
   "execution_count": null,
   "id": "956f5610",
   "metadata": {},
   "outputs": [],
   "source": [
    "#ses dosyasını dijitalleştirme\n",
    "librosa_audio_data, librosa_sample_rate = librosa.load(audio_file_path)\n",
    "librosa_audio_data"
   ]
  },
  {
   "cell_type": "code",
   "execution_count": null,
   "id": "7cb22f68",
   "metadata": {},
   "outputs": [],
   "source": [
    "#ses dosyasını görselleştirme mono\n",
    "plt.figure(figsize=(12, 4))\n",
    "plt.plot(librosa_audio_data)\n",
    "plt.show()"
   ]
  },
  {
   "cell_type": "code",
   "execution_count": null,
   "id": "d05d0a54",
   "metadata": {},
   "outputs": [],
   "source": [
    "#ses scipy ile okursak iki boyutlu okuyabiliriz sterio\n",
    "from scipy.io import wavfile as wav\n",
    "wave_sample_rate, wave_audio = wav.read(audio_file_path)"
   ]
  },
  {
   "cell_type": "code",
   "execution_count": null,
   "id": "e506908e",
   "metadata": {},
   "outputs": [],
   "source": [
    "plt.figure(figsize=(12, 4))\n",
    "plt.plot(wave_audio)\n",
    "plt.show()"
   ]
  },
  {
   "cell_type": "code",
   "execution_count": null,
   "id": "92b78712",
   "metadata": {},
   "outputs": [],
   "source": [
    "#sesimizden mfcc özelliklerini çıkardık.Ses dosyasını işlenir hale getirdik\n",
    "mfccs = librosa.feature.mfcc(y=librosa_audio_data, sr=librosa_sample_rate, n_mfcc=40)  #40 çıkarılan özellik sayısı\n",
    "mfccs.shape"
   ]
  },
  {
   "cell_type": "code",
   "execution_count": null,
   "id": "f63497b7",
   "metadata": {},
   "outputs": [],
   "source": [
    "mfccs"
   ]
  },
  {
   "cell_type": "code",
   "execution_count": null,
   "id": "6a35d989",
   "metadata": {},
   "outputs": [],
   "source": [
    "metadata=pd.read_csv('output.csv')\n",
    "#mp3 yazan yerleri waw ile değiştirdik \n",
    "metadata[\"path\"] = metadata[\"path\"].apply(lambda x: x.replace(\"mp3\", \"wav\"))\n",
    "metadata.head(10)"
   ]
  },
  {
   "cell_type": "code",
   "execution_count": null,
   "id": "3ae7e67f",
   "metadata": {},
   "outputs": [],
   "source": [
    "#okunan ses dosyasını dijitalleştiren özellik çıkartan ve normalize eden fonksiyon\n",
    "def features_extractor(filename):\n",
    "    audio, sample_rate = librosa.load(filename, res_type='kaiser_fast') \n",
    "    mfccs_features = librosa.feature.mfcc(y=audio, sr=sample_rate, n_mfcc=40)\n",
    "    mfccs_scaled_features = np.mean(mfccs_features.T,axis=0)\n",
    "    \n",
    "    return mfccs_scaled_features"
   ]
  },
  {
   "cell_type": "code",
   "execution_count": null,
   "id": "bcf88e77",
   "metadata": {},
   "outputs": [],
   "source": [
    "#verisetindeki dosya adlarını, yol olarak kullanıp ses dosyalarını okuyup,dijitalleştirip \n",
    "#yeni bir df de ses dosyası ve sınıf etikini birleşiriyoruz\n",
    "audio_dataset_path='WAV'\n",
    "extracted_features=[]\n",
    "for index_num,row in tqdm(metadata.iterrows()):\n",
    "    file_name = os.path.join(os.path.abspath(audio_dataset_path),str(row[\"path\"]))#WAV/common_voice_tr_23660893.wav\n",
    "    final_class_labels=row[\"gender\"]\n",
    "    data=features_extractor(file_name)\n",
    "    extracted_features.append([data,final_class_labels])"
   ]
  },
  {
   "cell_type": "code",
   "execution_count": null,
   "id": "599e1568",
   "metadata": {},
   "outputs": [],
   "source": [
    "#yeni dfnin columnslarını isimlendiriyoruz\n",
    "extracted_features_df = pd.DataFrame(extracted_features,columns=['feature','class'])\n",
    "extracted_features_df.head()"
   ]
  },
  {
   "cell_type": "code",
   "execution_count": null,
   "id": "44b5222d",
   "metadata": {},
   "outputs": [],
   "source": [
    "metadata[\"gender\"].isnull().sum()#nan satırları sayma"
   ]
  },
  {
   "cell_type": "code",
   "execution_count": null,
   "id": "02e4fdb2",
   "metadata": {},
   "outputs": [],
   "source": [
    "#ohter sınıf etikiti olan verisi nan değere çeviriyoruz\n",
    "extracted_features_df['class']=extracted_features_df['class'].replace(\"other\",np.NaN)"
   ]
  },
  {
   "cell_type": "code",
   "execution_count": null,
   "id": "ba103773",
   "metadata": {},
   "outputs": [],
   "source": [
    "#nan değerleri kaldırıyoruz\n",
    "extracted_features_df.dropna(inplace=True)"
   ]
  },
  {
   "cell_type": "code",
   "execution_count": null,
   "id": "4e6820fd",
   "metadata": {},
   "outputs": [],
   "source": [
    "extracted_features_df[\"class\"].value_counts()#sınıf etiketlerinin türleri ve sayısını buluyoruz."
   ]
  },
  {
   "cell_type": "code",
   "execution_count": null,
   "id": "7ff815ff",
   "metadata": {},
   "outputs": [],
   "source": [
    "extracted_features_df.sort_values(\"class\",ignore_index=True,inplace=True)#sınıf etiketlerini azdan çoğa sıralıyoruz"
   ]
  },
  {
   "cell_type": "code",
   "execution_count": null,
   "id": "b80b39fa",
   "metadata": {},
   "outputs": [],
   "source": [
    "extracted_features_df"
   ]
  },
  {
   "cell_type": "code",
   "execution_count": null,
   "id": "653b2c04",
   "metadata": {},
   "outputs": [],
   "source": [
    "#erkek ve kadın örnekleri eşit olması için erkek örnekleri dften çıkarıyoruz\n",
    "for i in range(21964,3623,-1):\n",
    "    extracted_features_df.drop([i],axis=0,inplace=True)    \n",
    "    "
   ]
  },
  {
   "cell_type": "code",
   "execution_count": null,
   "id": "20163ea9",
   "metadata": {},
   "outputs": [],
   "source": [
    "extracted_features_df[\"class\"].value_counts()"
   ]
  },
  {
   "cell_type": "code",
   "execution_count": null,
   "id": "1866013d",
   "metadata": {},
   "outputs": [],
   "source": [
    "extracted_features_df.to_csv('veriseti.csv')"
   ]
  },
  {
   "cell_type": "code",
   "execution_count": null,
   "id": "51173fc2",
   "metadata": {},
   "outputs": [],
   "source": [
    "# özellikler ve sınıf etiketlerini ayırma\n",
    "X=np.array(extracted_features_df['feature'].tolist())\n",
    "y=np.array(extracted_features_df['class'].tolist())"
   ]
  },
  {
   "cell_type": "code",
   "execution_count": null,
   "id": "aadace48",
   "metadata": {},
   "outputs": [],
   "source": [
    "y"
   ]
  },
  {
   "cell_type": "code",
   "execution_count": null,
   "id": "efc71abb",
   "metadata": {},
   "outputs": [],
   "source": [
    "#çıktı için one hot encoding\n",
    "labelencoder=LabelEncoder()\n",
    "y=to_categorical(labelencoder.fit_transform(y))\n"
   ]
  },
  {
   "cell_type": "code",
   "execution_count": null,
   "id": "85fda89a",
   "metadata": {},
   "outputs": [],
   "source": [
    "y"
   ]
  },
  {
   "cell_type": "code",
   "execution_count": null,
   "id": "5aa195ee",
   "metadata": {},
   "outputs": [],
   "source": [
    "#train test slit\n",
    "X_train,X_test,y_train,y_test=train_test_split(X,y,test_size=0.3,random_state=0)"
   ]
  },
  {
   "cell_type": "code",
   "execution_count": null,
   "id": "98610ecf",
   "metadata": {},
   "outputs": [],
   "source": [
    "X_train.shape"
   ]
  },
  {
   "cell_type": "code",
   "execution_count": null,
   "id": "90e3d15b",
   "metadata": {},
   "outputs": [],
   "source": [
    "X_test.shape"
   ]
  },
  {
   "cell_type": "code",
   "execution_count": null,
   "id": "8e83da6b",
   "metadata": {},
   "outputs": [],
   "source": [
    "y_train.shape"
   ]
  },
  {
   "cell_type": "code",
   "execution_count": null,
   "id": "b92adf4d",
   "metadata": {},
   "outputs": [],
   "source": [
    "y_test.shape"
   ]
  },
  {
   "cell_type": "code",
   "execution_count": null,
   "id": "b70cd6e2",
   "metadata": {},
   "outputs": [],
   "source": [
    "y_test"
   ]
  },
  {
   "cell_type": "code",
   "execution_count": null,
   "id": "16752278",
   "metadata": {},
   "outputs": [],
   "source": [
    "num_labels=2"
   ]
  },
  {
   "cell_type": "code",
   "execution_count": null,
   "id": "1c3064c6",
   "metadata": {},
   "outputs": [],
   "source": [
    "# CNN model oluşturma\n",
    "\n",
    "model=Sequential()\n",
    "# 1. hidden layer\n",
    "model.add(Dense(125,input_shape=(40,)))\n",
    "model.add(Activation('relu'))\n",
    "model.add(Dropout(0.5))\n",
    "# 2. hidden layer\n",
    "model.add(Dense(250))\n",
    "model.add(Activation('relu'))\n",
    "model.add(Dropout(0.5))\n",
    "# 3. hidden layer\n",
    "model.add(Dense(125))\n",
    "model.add(Activation('relu'))\n",
    "model.add(Dropout(0.5))\n",
    "\n",
    "# output layer\n",
    "model.add(Dense(num_labels))\n",
    "model.add(Activation('softmax'))"
   ]
  },
  {
   "cell_type": "code",
   "execution_count": null,
   "id": "607c30c5",
   "metadata": {},
   "outputs": [],
   "source": [
    "model.summary() #model özeli"
   ]
  },
  {
   "cell_type": "code",
   "execution_count": null,
   "id": "d10484cc",
   "metadata": {},
   "outputs": [],
   "source": [
    "model.compile(loss='binary_crossentropy', metrics=['accuracy'], optimizer='adam')"
   ]
  },
  {
   "cell_type": "code",
   "execution_count": null,
   "id": "e4143116",
   "metadata": {},
   "outputs": [],
   "source": [
    "# Modeli Eğitme\n",
    "model.fit(X_train, y_train, batch_size=32, epochs=300, validation_data=(X_test, y_test), verbose=1)"
   ]
  },
  {
   "cell_type": "code",
   "execution_count": null,
   "id": "b76147cf",
   "metadata": {},
   "outputs": [],
   "source": [
    "# başarı oranı\n",
    "validation_test_set_accuracy = model.evaluate(X_test,y_test,verbose=0)\n",
    "print(validation_test_set_accuracy[1])"
   ]
  },
  {
   "cell_type": "code",
   "execution_count": null,
   "id": "026fd95f",
   "metadata": {},
   "outputs": [],
   "source": [
    "#Örnekle deneme\n",
    "#filename=\"deneme sesleri/ahmet1.wav\"\n",
    "#sound_signal, sample_rate = librosa.load(filename, res_type='kaiser_fast') \n",
    "#mfccs_features = librosa.feature.mfcc(y=sound_signal, sr=sample_rate, n_mfcc=40)\n",
    "#mfccs_scaled_features = np.mean(mfccs_features.T,axis=0)"
   ]
  },
  {
   "cell_type": "code",
   "execution_count": null,
   "id": "67c7f182",
   "metadata": {},
   "outputs": [],
   "source": [
    "#verilen ses dosyası\n",
    "#ipd.Audio(filename)\n",
    "#ipd.Audio(sound_signal,rate=sample_rate)"
   ]
  },
  {
   "cell_type": "code",
   "execution_count": null,
   "id": "868aeea1",
   "metadata": {},
   "outputs": [],
   "source": [
    "#waw formatında ses kayıt etme\n",
    "import pyaudio#ses kaydetmek için\n",
    "import wave\n",
    "\n",
    "CHUNK = 1024\n",
    "FORMAT = pyaudio.paInt16\n",
    "CHANNELS = 2\n",
    "RATE = 44100\n",
    "RECORD_SECONDS = 5\n",
    "WAVE_OUTPUT_FILENAME = \"deneme sesleri/kaydedilen.wav\"\n",
    "p = pyaudio.PyAudio()\n",
    "\n",
    "stream = p.open(format=FORMAT,\n",
    "                channels=CHANNELS,\n",
    "                rate=RATE,\n",
    "                input=True,\n",
    "                frames_per_buffer=CHUNK)\n",
    "\n",
    "print(\"* kaydediyor\")\n",
    "\n",
    "frames = []\n",
    "\n",
    "for i in range(0, int(RATE / CHUNK * RECORD_SECONDS)):\n",
    "    data = stream.read(CHUNK)\n",
    "    frames.append(data)\n",
    "\n",
    "print(\"* kayıt tamamlandı\")\n",
    "\n",
    "stream.stop_stream()\n",
    "stream.close()\n",
    "p.terminate()\n",
    "\n",
    "wf = wave.open(WAVE_OUTPUT_FILENAME, 'wb')\n",
    "wf.setnchannels(CHANNELS)\n",
    "wf.setsampwidth(p.get_sample_size(FORMAT))\n",
    "wf.setframerate(RATE)\n",
    "wf.writeframes(b''.join(frames))\n",
    "wf.close()"
   ]
  },
  {
   "cell_type": "code",
   "execution_count": null,
   "id": "269d810c",
   "metadata": {},
   "outputs": [],
   "source": [
    "#kaydedin ses dosyası\n",
    "ipd.Audio(WAVE_OUTPUT_FILENAME)\n",
    "librosa_audio_data, librosa_sample_rate = librosa.load(WAVE_OUTPUT_FILENAME)\n",
    "ipd.Audio(librosa_audio_data,rate=librosa_sample_rate)"
   ]
  },
  {
   "cell_type": "code",
   "execution_count": null,
   "id": "dc094f79",
   "metadata": {},
   "outputs": [],
   "source": [
    "#kaydedilen ses dosyasını görselleştirme\n",
    "plt.figure(figsize=(12, 4))\n",
    "plt.plot(librosa_audio_data)\n",
    "plt.show()"
   ]
  },
  {
   "cell_type": "code",
   "execution_count": null,
   "id": "67f615cb",
   "metadata": {},
   "outputs": [],
   "source": [
    "filename=WAVE_OUTPUT_FILENAME\n",
    "sound_signal, sample_rate = librosa.load(filename, res_type='kaiser_fast') \n",
    "mfccs_features = librosa.feature.mfcc(y=sound_signal, sr=sample_rate, n_mfcc=40)\n",
    "mfccs_scaled_features = np.mean(mfccs_features.T,axis=0)"
   ]
  },
  {
   "cell_type": "code",
   "execution_count": null,
   "id": "dd45f0ce",
   "metadata": {},
   "outputs": [],
   "source": [
    "mfccs_scaled_features = mfccs_scaled_features.reshape(1,-1)"
   ]
  },
  {
   "cell_type": "code",
   "execution_count": null,
   "id": "ab271acd",
   "metadata": {},
   "outputs": [],
   "source": [
    "result_array = model.predict(mfccs_scaled_features)"
   ]
  },
  {
   "cell_type": "code",
   "execution_count": null,
   "id": "34790397",
   "metadata": {
    "scrolled": true
   },
   "outputs": [],
   "source": [
    "result_array"
   ]
  },
  {
   "cell_type": "code",
   "execution_count": null,
   "id": "856c8ded",
   "metadata": {},
   "outputs": [],
   "source": [
    "result_classes = [\"Kadın\",\"Erkek\"]\n",
    "\n",
    "result = np.argmax(result_array[0])\n",
    "print(result_classes[result]) "
   ]
  },
  {
   "cell_type": "code",
   "execution_count": null,
   "id": "edad6fdd",
   "metadata": {},
   "outputs": [],
   "source": []
  },
  {
   "cell_type": "code",
   "execution_count": null,
   "id": "16d3f66d",
   "metadata": {},
   "outputs": [],
   "source": []
  }
 ],
 "metadata": {
  "kernelspec": {
   "display_name": "Python 3",
   "language": "python",
   "name": "python3"
  },
  "language_info": {
   "codemirror_mode": {
    "name": "ipython",
    "version": 3
   },
   "file_extension": ".py",
   "mimetype": "text/x-python",
   "name": "python",
   "nbconvert_exporter": "python",
   "pygments_lexer": "ipython3",
   "version": "3.8.8"
  }
 },
 "nbformat": 4,
 "nbformat_minor": 5
}
